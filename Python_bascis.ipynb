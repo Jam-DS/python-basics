{
  "nbformat": 4,
  "nbformat_minor": 0,
  "metadata": {
    "colab": {
      "provenance": []
    },
    "kernelspec": {
      "name": "python3",
      "display_name": "Python 3"
    },
    "language_info": {
      "name": "python"
    }
  },
  "cells": [
    {
      "cell_type": "markdown",
      "source": [
        "#PYHON BASIC QUESTIONS\n"
      ],
      "metadata": {
        "id": "9K36tGWWQqef"
      }
    },
    {
      "cell_type": "markdown",
      "source": [
        "1. What is Python, and why is it popular ?\n",
        "- Python is a programming language that is easy to understand and write, making it a popular choice among developers and programmers.\n",
        "   Python has a large and active community of developers, an extensive standard library, and third-party packages for various domains.\n",
        "  "
      ],
      "metadata": {
        "id": "qLP1A8WORhXC"
      }
    },
    {
      "cell_type": "markdown",
      "source": [
        "2. What is an interpreter in Python ?\n",
        "- interpreters are the computer program that will convert the source code or an high level language into machine level language that a computer can understand."
      ],
      "metadata": {
        "id": "ZuJuigYkSEYm"
      }
    },
    {
      "cell_type": "markdown",
      "source": [
        "3. What are pre-defined keywords in Python ?\n",
        "- Keywords are reserved words in Python that have special meanings and cannot be used as identifiers (variable names, function names, etc.).\n",
        "Examples of keywords include if, else, while, for, def, class, import, try, except, return, True, False, None, etc.\n",
        "Keywords are case-sensitive and cannot be redefined or overridden within a Python program. pre- defined keywords are-\n"
      ],
      "metadata": {
        "id": "nZhk7P1sVFI6"
      }
    },
    {
      "cell_type": "markdown",
      "source": [
        "4. Can keywords be used as variable names ?\n",
        "- keywords can't be used as variable,it is define the structure and syntax rules of a programming language they are used by the interpreter to recognize the program's structure."
      ],
      "metadata": {
        "id": "ZZM1nMjBZL-z"
      }
    },
    {
      "cell_type": "markdown",
      "source": [
        "5. What is mutability in Python ?\n",
        "- In Python, objects/container whose state or value can be changed after they are created are called as mutable objects or container.\n"
      ],
      "metadata": {
        "id": "U6GXbVhScRRZ"
      }
    },
    {
      "cell_type": "markdown",
      "source": [
        "6. Why are lists mutable, but tuples are immutable ?\n",
        "- Mutable objects, such as lists and dictionaries, can be modified after creation, while immutable objects, such as tuples and strings, cannot."
      ],
      "metadata": {
        "id": "trVHzcTggM9i"
      }
    },
    {
      "cell_type": "markdown",
      "source": [
        "7. What is the difference between “==” and “is” operators in Python ?\n",
        "- Operators are special symbols or keywords that are used to carry out specific actions on numbers or variables in Python expressions.   \n",
        "\"==\" and is operators are both used for comparison but they serve different purposes.  \n",
        "\"==\" Operator\n",
        "To compare objects based on their values,\"is\"operator are used to compare objects based on their identity."
      ],
      "metadata": {
        "id": "96xjH1OajRp2"
      }
    },
    {
      "cell_type": "markdown",
      "source": [
        "8. What are logical operators in Python ?\n",
        "- In Python, Logical operators are used on conditional statements (either True or False). They perform Logical AND, Logical OR, and Logical NOT operations."
      ],
      "metadata": {
        "id": "vLDpeJygmeCq"
      }
    },
    {
      "cell_type": "markdown",
      "source": [
        "9. What is type casting in Python ?\n",
        "-  Typecasting in Python allows programmers to convert variables or data from one data type to another. It enables smooth manipulation of data. Typecasting in Python can be very useful in dealing with large data sets where the data is present in different data types."
      ],
      "metadata": {
        "id": "dyIjLSMroIa9"
      }
    },
    {
      "cell_type": "markdown",
      "source": [
        "10. What is the difference between implicit and explicit type casting ?\n",
        "- In Python, implicit typecasting is automatically performed. During the implicit type conversion, the user is not supposed to mention any specific data type during the conversion.   \n",
        " Explicit type conversion in Python, the user is supposed to pass the value in a function to obtain the required data type."
      ],
      "metadata": {
        "id": "qw69slYepHxg"
      }
    },
    {
      "cell_type": "markdown",
      "source": [
        "11. What is the purpose of conditional statements in Python ?\n",
        "-  Conditional Statements are statements in Python that provide a choice for the control flow based on a condition. It means that the control flow of the Python program will be decided based on the outcome of the condition.  Python supports conditional statements such as if, elif (else if), and else to control the flow of execution."
      ],
      "metadata": {
        "id": "_FNqYg9XvGwL"
      }
    },
    {
      "cell_type": "markdown",
      "source": [
        "12. How does the elif statement work ?\n",
        "-  In Python programming, the “else if” statement, often called “elif,” is a conditional statement that allows you to specify multiple conditions to be evaluated sequentially. It provides a way to execute different code blocks based on various conditions. The “else if” statement is used when you have multiple mutually exclusive requirements and want to perform other actions depending on the valid state."
      ],
      "metadata": {
        "id": "ROOo3QVg02nC"
      }
    },
    {
      "cell_type": "markdown",
      "source": [
        "13. What is the difference between for and while loops?\n",
        "-  “for” loops are used for iterating over a sequence of elements, while “while” loops are used for executing code until a specified condition becomes False."
      ],
      "metadata": {
        "id": "ak9zp8ZIzi8Q"
      }
    },
    {
      "cell_type": "markdown",
      "source": [
        "14. Describe a scenario where a while loop is more suitable than a for loop.\n",
        "-  In Python, loops are employed to repeat a sequence of actions or code until a specific condition is fulfilled."
      ],
      "metadata": {
        "id": "sp4c-3Eo0mj3"
      }
    },
    {
      "cell_type": "markdown",
      "source": [
        "#PRACTICAL QUESTION"
      ],
      "metadata": {
        "id": "B0FIqki-Pi1a"
      }
    },
    {
      "cell_type": "code",
      "source": [
        "#[Q.1] python programme to print hello world.\n",
        "print(\"hello world\")"
      ],
      "metadata": {
        "colab": {
          "base_uri": "https://localhost:8080/"
        },
        "id": "8YoeqeGFAV99",
        "outputId": "48188f73-8e4f-48de-9300-e7b0f6c88fe1"
      },
      "execution_count": null,
      "outputs": [
        {
          "output_type": "stream",
          "name": "stdout",
          "text": [
            "hello world\n"
          ]
        }
      ]
    },
    {
      "cell_type": "code",
      "source": [
        "#[Q.2] Define your name and age\n",
        "name = \"loshan jamre\"\n",
        "age = 24\n",
        "\n",
        "print(\"Name:\", name)\n",
        "print(\"Age:\", age)\n"
      ],
      "metadata": {
        "colab": {
          "base_uri": "https://localhost:8080/"
        },
        "id": "h1AbFcxYAZ7z",
        "outputId": "2c272c6d-aa10-42ba-9a93-ad3e59c1dd43"
      },
      "execution_count": null,
      "outputs": [
        {
          "output_type": "stream",
          "name": "stdout",
          "text": [
            "Name: loshan jamre\n",
            "Age: 24\n"
          ]
        }
      ]
    },
    {
      "cell_type": "code",
      "source": [
        "#[Q.3] pre-defined keywords\n",
        "help('keywords')"
      ],
      "metadata": {
        "colab": {
          "base_uri": "https://localhost:8080/"
        },
        "id": "GVQJ_GOPBQAn",
        "outputId": "96ad3481-98f5-421a-bea4-fc92e55c0fa6"
      },
      "execution_count": null,
      "outputs": [
        {
          "output_type": "stream",
          "name": "stdout",
          "text": [
            "\n",
            "Here is a list of the Python keywords.  Enter any keyword to get more help.\n",
            "\n",
            "False               class               from                or\n",
            "None                continue            global              pass\n",
            "True                def                 if                  raise\n",
            "and                 del                 import              return\n",
            "as                  elif                in                  try\n",
            "assert              else                is                  while\n",
            "async               except              lambda              with\n",
            "await               finally             nonlocal            yield\n",
            "break               for                 not                 \n",
            "\n"
          ]
        }
      ]
    },
    {
      "cell_type": "code",
      "source": [
        "#[Q.4] check python keywords\n",
        "\n",
        "def check_if_keyword(word):\n",
        "    if keyword.iskeyword(word):\n",
        "        print(f\"'{word}' is a Python keyword.\")\n",
        "    else:\n",
        "        print(f\"'{word}' is not a Python keyword.\")\n",
        "word = input(\"Enter a word: \")\n",
        "check_if_keyword(word)\n"
      ],
      "metadata": {
        "colab": {
          "base_uri": "https://localhost:8080/"
        },
        "id": "UZ0pLiCwNEab",
        "outputId": "7bc9a944-5e20-4e71-d605-5fcd47e91a2a"
      },
      "execution_count": null,
      "outputs": [
        {
          "output_type": "stream",
          "name": "stdout",
          "text": [
            "Enter a word: from\n",
            "'from' is a Python keyword.\n"
          ]
        }
      ]
    },
    {
      "cell_type": "code",
      "source": [
        "#[Q.5] creating a list and tuples in python,and attempting to change element of each-\n",
        "#LIST\n",
        "\n",
        "my_list = [1, 2, 3, 4, 5]\n",
        "print(\"List:\", my_list)"
      ],
      "metadata": {
        "colab": {
          "base_uri": "https://localhost:8080/"
        },
        "id": "nEfqpIvhO_xx",
        "outputId": "9abd1b88-7c11-495c-afc2-e77ab6b6afa3"
      },
      "execution_count": null,
      "outputs": [
        {
          "output_type": "stream",
          "name": "stdout",
          "text": [
            "List: [1, 2, 3, 4, 5]\n"
          ]
        }
      ]
    },
    {
      "cell_type": "code",
      "source": [
        "#changing elements\n",
        "my_list[1] = 10\n",
        "print(\"modified List:\", my_list)"
      ],
      "metadata": {
        "colab": {
          "base_uri": "https://localhost:8080/"
        },
        "id": "C7WBa8keSaWV",
        "outputId": "7626f3c6-4869-448a-983e-80cb6b33ed95"
      },
      "execution_count": null,
      "outputs": [
        {
          "output_type": "stream",
          "name": "stdout",
          "text": [
            "modified List: [1, 10, 3, 4, 5]\n"
          ]
        }
      ]
    },
    {
      "cell_type": "code",
      "source": [
        "#TUPLE\n",
        "my_tuple = (1, 2, 3, 4, 5)\n",
        "print(\"Tuple:\", my_tuple)"
      ],
      "metadata": {
        "colab": {
          "base_uri": "https://localhost:8080/"
        },
        "id": "lLf-xiyTScZ4",
        "outputId": "489a5181-1028-4cb1-b1eb-225c4a029aaf"
      },
      "execution_count": null,
      "outputs": [
        {
          "output_type": "stream",
          "name": "stdout",
          "text": [
            "Tuple: (1, 2, 3, 4, 5)\n"
          ]
        }
      ]
    },
    {
      "cell_type": "code",
      "source": [
        "'''tuples are immutables that means it can't be modified.\n",
        "Mutable objects, such as lists and dictionaries,\n",
        "can be modified after creation, while immutable objects, such as tuples and strings, cannot.'''"
      ],
      "metadata": {
        "id": "QwgXWfEUV1bw"
      },
      "execution_count": null,
      "outputs": []
    },
    {
      "cell_type": "code",
      "source": [
        "# [Q.6] & [Q.7] mutable and immutable arguments.\n",
        "\n",
        "#immutable argument\n",
        "\n",
        "def modify_string(s):\n",
        "    s = s + \" world\"\n",
        "    return s\n",
        "\n",
        "word = \"hello\"\n",
        "modified = modify_string(word)\n",
        "\n",
        "print(word)\n",
        "print(modified)"
      ],
      "metadata": {
        "id": "aV63WwzzZdSu",
        "colab": {
          "base_uri": "https://localhost:8080/"
        },
        "outputId": "f5525870-0e98-4d1c-89de-8fda9171c3b0"
      },
      "execution_count": null,
      "outputs": [
        {
          "output_type": "stream",
          "name": "stdout",
          "text": [
            "hello\n",
            "hello world\n"
          ]
        }
      ]
    },
    {
      "cell_type": "code",
      "source": [
        "# mutable argument\n",
        "def add_element(my_list):\n",
        "    my_list.append(5)\n",
        "    print(\"Inside function:\", my_list)\n",
        "\n",
        "my_list = [1, 2, 3, 4]\n",
        "print(\"Before function:\", my_list)\n",
        "\n",
        "add_element(my_list)\n",
        "\n",
        "print(\"After function:\", my_list)"
      ],
      "metadata": {
        "colab": {
          "base_uri": "https://localhost:8080/"
        },
        "id": "eaCS7WLkdr05",
        "outputId": "348a49ed-8e75-4288-f8ad-61912643a386"
      },
      "execution_count": null,
      "outputs": [
        {
          "output_type": "stream",
          "name": "stdout",
          "text": [
            "Before function: [1, 2, 3, 4]\n",
            "Inside function: [1, 2, 3, 4, 5]\n",
            "After function: [1, 2, 3, 4, 5]\n"
          ]
        }
      ]
    },
    {
      "cell_type": "code",
      "source": [
        "# [Q.8] Write a program to demonstrate the use of logical operators.\n",
        " #logical and operator\n",
        "a = 10\n",
        "b = 10\n",
        "c = -10\n",
        "if a > 0 and b > 0:\n",
        "    print(\"The numbers are greater than 0\")\n",
        "if a > 0 and b > 0 and c > 0:\n",
        "    print(\"The numbers are greater than 0\")\n",
        "else:\n",
        "    print(\"Atleast one number is not greater than 0\")\n",
        "\n",
        ""
      ],
      "metadata": {
        "colab": {
          "base_uri": "https://localhost:8080/"
        },
        "id": "M7is4zFfwavi",
        "outputId": "b9455aa0-da27-4d31-8ddd-948c8672ce1e"
      },
      "execution_count": 3,
      "outputs": [
        {
          "output_type": "stream",
          "name": "stdout",
          "text": [
            "The numbers are greater than 0\n",
            "Atleast one number is not greater than 0\n"
          ]
        }
      ]
    },
    {
      "cell_type": "code",
      "source": [
        "# logical \"or\" operators\n",
        "a = 10\n",
        "b = 12\n",
        "c = 0\n",
        "if a or b or c:\n",
        "    print(\"Atleast one number has boolean value as True\")\n",
        "else:\n",
        "    print(\"All the numbers have boolean value as False\")"
      ],
      "metadata": {
        "colab": {
          "base_uri": "https://localhost:8080/"
        },
        "id": "pdE_KmlO88EI",
        "outputId": "193a08a4-5cf0-491d-a692-98315447592a"
      },
      "execution_count": 9,
      "outputs": [
        {
          "output_type": "stream",
          "name": "stdout",
          "text": [
            "Atleast one number has boolean value as True\n"
          ]
        }
      ]
    },
    {
      "cell_type": "code",
      "source": [
        "# logical \"not\" operators\n",
        "a = 10\n",
        "\n",
        "if not a:\n",
        "    print(\"Boolean value of a is True\")\n",
        "if not (a % 3 == 0 or a % 5 == 0):\n",
        "    print(\"10 is not divisible by either 3 or 5\")\n",
        "else:\n",
        "    print(\"10 is divisible by either 3 or 5\")"
      ],
      "metadata": {
        "colab": {
          "base_uri": "https://localhost:8080/"
        },
        "id": "ztRPWg3Y9DRp",
        "outputId": "0305776f-4c4c-4f6e-a1b1-6e291e96bb92"
      },
      "execution_count": 80,
      "outputs": [
        {
          "output_type": "stream",
          "name": "stdout",
          "text": [
            "10 is divisible by either 3 or 5\n"
          ]
        }
      ]
    },
    {
      "cell_type": "code",
      "source": [
        "#[Q.9] Python program to convert user input from string to integer, float, and boolean types.\n",
        "A = \"20\"\n",
        "print(A)\n",
        "print(type(A))\n",
        "\n",
        "B = int(A)\n",
        "print(B)\n",
        "print(type(B))\n",
        "\n",
        "C = float(A)\n",
        "print(A)\n",
        "print(type(C))\n",
        "\n",
        "D = bool(A)\n",
        "print(A)\n",
        "print(type(D))"
      ],
      "metadata": {
        "colab": {
          "base_uri": "https://localhost:8080/"
        },
        "id": "AwPJ9pHtHueC",
        "outputId": "1ff7dbb3-d1c4-44c0-b3cb-3154daf6d4aa"
      },
      "execution_count": 45,
      "outputs": [
        {
          "output_type": "stream",
          "name": "stdout",
          "text": [
            "20\n",
            "<class 'str'>\n",
            "20\n",
            "<class 'int'>\n",
            "20\n",
            "<class 'float'>\n",
            "20\n",
            "<class 'bool'>\n"
          ]
        }
      ]
    },
    {
      "cell_type": "code",
      "source": [
        "#[Q.10] Function to demonstrate type casting with list elements\n",
        "\n",
        "my_list = ['10', '3.14', 'True', '200', 'False']\n",
        "\n",
        "my_list[0] = int(my_list[0])\n",
        "my_list[1] = float(my_list[1])\n",
        "my_list[2] = bool(my_list[2])\n",
        "my_list[3] = int(my_list[3])\n",
        "my_list[4] = bool(my_list[4])\n",
        "\n",
        "print(type(my_list[0]))\n",
        "print(type(my_list[1]))\n",
        "print(type(my_list[2]))\n",
        "print(type(my_list[3]))"
      ],
      "metadata": {
        "colab": {
          "base_uri": "https://localhost:8080/"
        },
        "id": "nTgEQO-HciuB",
        "outputId": "c358a49f-7d60-40c8-c4c0-1a8709551ec6"
      },
      "execution_count": 79,
      "outputs": [
        {
          "output_type": "stream",
          "name": "stdout",
          "text": [
            "<class 'int'>\n",
            "<class 'float'>\n",
            "<class 'bool'>\n",
            "<class 'int'>\n"
          ]
        }
      ]
    },
    {
      "cell_type": "code",
      "source": [
        "#[Q.11] Write a program that checks if a number is positive, negative, or zero.\n",
        "def check_number(number):\n",
        "  number = int(input(\"Enter a number:\"))\n",
        "  if number > 0:\n",
        "    print(\"The number is positive.\")\n",
        "  elif number < 0:\n",
        "    print(\"The number is negative.\")\n",
        "  else:\n",
        "    print(\"The number is zero.\")\n",
        "check_number(number)"
      ],
      "metadata": {
        "colab": {
          "base_uri": "https://localhost:8080/"
        },
        "id": "s-4725_H9foU",
        "outputId": "485dbe27-c246-43fe-c3b0-3a57f849b098"
      },
      "execution_count": 117,
      "outputs": [
        {
          "output_type": "stream",
          "name": "stdout",
          "text": [
            "Enter a number:4\n",
            "The number is positive.\n"
          ]
        }
      ]
    },
    {
      "cell_type": "code",
      "source": [
        "def check_number(number):\n",
        "  number = float(input(\"Enter a number:\"))\n",
        "  if number > 0:\n",
        "    print(\"The number is positive.\")\n",
        "  elif number < 0:\n",
        "    print(\"The number is negative.\")\n",
        "  else:\n",
        "    print(\"The number is zero.\")\n",
        "check_number(number)"
      ],
      "metadata": {
        "colab": {
          "base_uri": "https://localhost:8080/"
        },
        "id": "cYCyR9Of7VWE",
        "outputId": "aec01063-1153-4025-ad05-95448eb1bb18"
      },
      "execution_count": 118,
      "outputs": [
        {
          "output_type": "stream",
          "name": "stdout",
          "text": [
            "Enter a number:-2.0\n",
            "The number is negative.\n"
          ]
        }
      ]
    },
    {
      "cell_type": "code",
      "source": [
        "def check_number(number):\n",
        "  number = int(input(\"Enter a number:\"))\n",
        "  if number > 0:\n",
        "    print(\"The number is positive.\")\n",
        "  elif number < 0:\n",
        "    print(\"The number is negative.\")\n",
        "  else:\n",
        "    print(\"The number is zero.\")\n",
        "check_number(number)"
      ],
      "metadata": {
        "colab": {
          "base_uri": "https://localhost:8080/"
        },
        "id": "YqMPEpta7wvP",
        "outputId": "522ffd76-4d7f-4a4c-ca05-a469c188d580"
      },
      "execution_count": 115,
      "outputs": [
        {
          "output_type": "stream",
          "name": "stdout",
          "text": [
            "Enter a number:0\n",
            "The number is zero.\n"
          ]
        }
      ]
    },
    {
      "cell_type": "code",
      "source": [
        "#[Q.12] Write a for loop to print numbers from 1 to 100.\n",
        "\n",
        "# Using a for loop to print numbers from 1 to 100\n",
        "for number in range(1, 101):\n",
        "    print(number)\n"
      ],
      "metadata": {
        "colab": {
          "base_uri": "https://localhost:8080/"
        },
        "id": "gHy1l0CP88Ba",
        "outputId": "0c0ebd7d-c1b9-4a8b-fc36-d62b079888f4"
      },
      "execution_count": 116,
      "outputs": [
        {
          "output_type": "stream",
          "name": "stdout",
          "text": [
            "1\n",
            "2\n",
            "3\n",
            "4\n",
            "5\n",
            "6\n",
            "7\n",
            "8\n",
            "9\n",
            "10\n",
            "11\n",
            "12\n",
            "13\n",
            "14\n",
            "15\n",
            "16\n",
            "17\n",
            "18\n",
            "19\n",
            "20\n",
            "21\n",
            "22\n",
            "23\n",
            "24\n",
            "25\n",
            "26\n",
            "27\n",
            "28\n",
            "29\n",
            "30\n",
            "31\n",
            "32\n",
            "33\n",
            "34\n",
            "35\n",
            "36\n",
            "37\n",
            "38\n",
            "39\n",
            "40\n",
            "41\n",
            "42\n",
            "43\n",
            "44\n",
            "45\n",
            "46\n",
            "47\n",
            "48\n",
            "49\n",
            "50\n",
            "51\n",
            "52\n",
            "53\n",
            "54\n",
            "55\n",
            "56\n",
            "57\n",
            "58\n",
            "59\n",
            "60\n",
            "61\n",
            "62\n",
            "63\n",
            "64\n",
            "65\n",
            "66\n",
            "67\n",
            "68\n",
            "69\n",
            "70\n",
            "71\n",
            "72\n",
            "73\n",
            "74\n",
            "75\n",
            "76\n",
            "77\n",
            "78\n",
            "79\n",
            "80\n",
            "81\n",
            "82\n",
            "83\n",
            "84\n",
            "85\n",
            "86\n",
            "87\n",
            "88\n",
            "89\n",
            "90\n",
            "91\n",
            "92\n",
            "93\n",
            "94\n",
            "95\n",
            "96\n",
            "97\n",
            "98\n",
            "99\n",
            "100\n"
          ]
        }
      ]
    },
    {
      "cell_type": "code",
      "source": [
        "#[Q.13] write a Python program to find the sum of all even numbers between 1 and 50.\n",
        "\n",
        "# Calculate the sum of even numbers using range\n",
        "sum_even_numbers = sum(range(2, 51, 2))\n",
        "print(\"Sum of all even numbers between 1 and 50 is:\", sum_even_numbers)\n"
      ],
      "metadata": {
        "colab": {
          "base_uri": "https://localhost:8080/"
        },
        "id": "CoNNy-hr9-mt",
        "outputId": "a88bc0fb-c932-491d-d4d5-9ade2679158d"
      },
      "execution_count": 7,
      "outputs": [
        {
          "output_type": "stream",
          "name": "stdout",
          "text": [
            "Sum of all even numbers between 1 and 50 is: 650\n"
          ]
        }
      ]
    },
    {
      "cell_type": "code",
      "source": [
        "#[Q.14] Function to reverse a string using a while loop.\n",
        "\n",
        "def reverse_string(s):\n",
        "    reversed_string = \"\"\n",
        "    index = len(s) - 1\n",
        "\n",
        "    while index >= 0:\n",
        "        reversed_string += s[index]\n",
        "        index -= 1\n",
        "    return reversed_string\n",
        "# Input string\n",
        "input_string = \"function\"\n",
        "reversed_str = reverse_string(input_string)\n",
        "\n",
        "print(\"Reversed string:\", reversed_str)\n",
        "\n"
      ],
      "metadata": {
        "colab": {
          "base_uri": "https://localhost:8080/"
        },
        "id": "sYzrtkIA-NJp",
        "outputId": "059fa5d0-213b-4ce5-8be1-8ae8e8aadb7b"
      },
      "execution_count": 26,
      "outputs": [
        {
          "output_type": "stream",
          "name": "stdout",
          "text": [
            "Reversed string: noitcnuf\n"
          ]
        }
      ]
    }
  ]
}